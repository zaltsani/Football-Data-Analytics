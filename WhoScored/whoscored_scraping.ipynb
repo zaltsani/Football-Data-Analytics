{
 "cells": [
  {
   "cell_type": "code",
   "execution_count": 1,
   "metadata": {},
   "outputs": [],
   "source": [
    "import main\n",
    "from selenium import webdriver\n",
    "from selenium.webdriver.chrome.service import Service\n",
    "from webdriver_manager.chrome import ChromeDriverManager\n",
    "import json"
   ]
  },
  {
   "cell_type": "code",
   "execution_count": 24,
   "metadata": {},
   "outputs": [],
   "source": [
    "match_id ='1809772'\n",
    "url = f\"https://1xbet.whoscored.com/Matches/{match_id}/Live/\""
   ]
  },
  {
   "cell_type": "code",
   "execution_count": 25,
   "metadata": {},
   "outputs": [
    {
     "name": "stdout",
     "output_type": "stream",
     "text": [
      "Region: Europe, League: Europa League, Season: 2023/2024, Match Id: 1809772\n"
     ]
    }
   ],
   "source": [
    "if __name__ == \"__main__\":\n",
    "    driver = webdriver.Chrome(service=Service(ChromeDriverManager().install()))\n",
    "    \n",
    "# Match dataframe\n",
    "match_data = main.getMatchData(driver, url, close_window=True)\n",
    "\n",
    "# Match dataframe containing info about the match\n",
    "matches_df = main.createMatchesDF(match_data)\n",
    "\n",
    "# Events dataframe      \n",
    "events_df = main.createEventsDF(match_data)\n",
    "\n",
    "# match Id\n",
    "matchId = match_data['matchId']\n",
    "\n",
    "# Information about respective teams as dictionary\n",
    "home_data = matches_df['home'][matchId]\n",
    "away_data = matches_df['away'][matchId]"
   ]
  },
  {
   "cell_type": "code",
   "execution_count": 26,
   "metadata": {},
   "outputs": [],
   "source": [
    "Home_Team = match_data['home']['name']\n",
    "Away_Team = match_data['away']['name']\n",
    "Date = match_data['startDate'].split('T')[0]\n",
    "#Competition = match_data['league'].split(' ')[0] + '_' + match_data['league'].split(' ')[1]\n",
    "Competition = match_data['league']"
   ]
  },
  {
   "cell_type": "code",
   "execution_count": 27,
   "metadata": {},
   "outputs": [],
   "source": [
    "json_events_data = events_df.to_json()\n",
    "with open(f'D:\\\\Football\\\\Data\\\\WhoScored\\\\Events_Data_{Home_Team}_VS_{Away_Team}_{Competition}_{Date}.json', 'w') as data:\n",
    "    json.dump(json_events_data, data)"
   ]
  },
  {
   "cell_type": "code",
   "execution_count": 28,
   "metadata": {},
   "outputs": [],
   "source": [
    "with open(f'D:\\\\Football\\\\Data\\\\WhoScored\\\\Match_Data_{Home_Team}_VS_{Away_Team}_{Competition}_{Date}.json', 'w') as data:\n",
    "    json.dump(match_data, data)"
   ]
  }
 ],
 "metadata": {
  "kernelspec": {
   "display_name": "venv",
   "language": "python",
   "name": "python3"
  },
  "language_info": {
   "codemirror_mode": {
    "name": "ipython",
    "version": 3
   },
   "file_extension": ".py",
   "mimetype": "text/x-python",
   "name": "python",
   "nbconvert_exporter": "python",
   "pygments_lexer": "ipython3",
   "version": "3.12.1"
  }
 },
 "nbformat": 4,
 "nbformat_minor": 2
}
